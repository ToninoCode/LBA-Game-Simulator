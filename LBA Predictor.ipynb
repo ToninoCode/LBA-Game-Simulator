{
 "cells": [
  {
   "cell_type": "code",
   "execution_count": null,
   "id": "ec8bc382",
   "metadata": {},
   "outputs": [],
   "source": [
    "import pandas as pd\n",
    "import random as rnd"
   ]
  },
  {
   "cell_type": "code",
   "execution_count": null,
   "id": "73cb0135",
   "metadata": {},
   "outputs": [],
   "source": [
    "gdf = pd.read_csv('./lba-dataset.csv', sep=';')"
   ]
  },
  {
   "cell_type": "code",
   "execution_count": null,
   "id": "d36cf521",
   "metadata": {},
   "outputs": [],
   "source": [
    "gdf.head()"
   ]
  },
  {
   "cell_type": "code",
   "execution_count": null,
   "id": "249babc9",
   "metadata": {},
   "outputs": [],
   "source": [
    "team1 = input('Team 1:')\n",
    "team2 = input('Team 2:')"
   ]
  },
  {
   "cell_type": "code",
   "execution_count": null,
   "id": "8a97f731",
   "metadata": {},
   "outputs": [],
   "source": [
    "team1df = gdf[gdf.Team == team1]\n",
    "team2df = gdf[gdf.Team == team2]"
   ]
  },
  {
   "cell_type": "code",
   "execution_count": null,
   "id": "1ca6d708",
   "metadata": {},
   "outputs": [],
   "source": [
    "team1meanpts = team1df.TeamPoints.mean()\n",
    "team2meanpts = team2df.TeamPoints.mean()\n",
    "team1sdpts = team1df.TeamPoints.std()\n",
    "team2sdpts = team2df.TeamPoints.std()\n",
    "\n",
    "team1meanopp = team1df.OpponentPoints.mean()\n",
    "team2meanopp = team2df.OpponentPoints.mean()\n",
    "team1sdopp = team1df.OpponentPoints.std()\n",
    "team2sdopp = team2df.OpponentPoints.std()\n",
    "\n",
    "print(team1, \" Points Mean \", team1meanpts)\n",
    "print(team1, \" Points SD \", team1sdpts)\n",
    "print(team2, \" Points Mean \", team2meanpts)\n",
    "print(team2, \" Points SD \", team2sdpts)\n",
    "\n",
    "print(team1, \" OppPoints Mean \", team1meanopp)\n",
    "print(team1, \" OppPoints SD \", team1sdopp)\n",
    "print(team2, \" OppPoints Mean \", team2meanopp)\n",
    "print(team2, \" OppPoints SD \", team2sdopp)"
   ]
  },
  {
   "cell_type": "code",
   "execution_count": null,
   "id": "c4c7dad8",
   "metadata": {},
   "outputs": [],
   "source": [
    "def gameSim():\n",
    "    Team1Score = (rnd.gauss(team1meanpts,team1sdpts)+ rnd.gauss(team2meanopp,team2sdopp))/2\n",
    "    Team2Score = (rnd.gauss(team2meanpts,team2sdpts)+ rnd.gauss(team1meanopp,team1sdopp))/2\n",
    "    if int(round(Team1Score)) > int(round(Team2Score)):\n",
    "        return 1\n",
    "    elif int(round(Team1Score)) < int(round(Team2Score)):\n",
    "        return -1\n",
    "    else: \n",
    "        return 0"
   ]
  },
  {
   "cell_type": "code",
   "execution_count": null,
   "id": "70114499",
   "metadata": {},
   "outputs": [],
   "source": [
    "def gamesSim(ns):\n",
    "    gamesout = []\n",
    "    team1win = 0\n",
    "    team2win = 0\n",
    "    tie = 0\n",
    "    for i in range(ns):\n",
    "        gm = gameSim()\n",
    "        gamesout.append(gm)\n",
    "        if gm == 1:\n",
    "            team1win +=1 \n",
    "        elif gm == -1:\n",
    "            team2win +=1\n",
    "        else: tie +=1 \n",
    "    print(team1, ' Win ', (team1win/(team1win+team2win+tie))*100,'%')\n",
    "    print(team2, ' Win ', (team2win/(team1win+team2win+tie))*100,'%')\n",
    "    print('Tie ', (tie/(team1win+team2win+tie))*100, '%')\n",
    "    return gamesout"
   ]
  },
  {
   "cell_type": "code",
   "execution_count": null,
   "id": "767e497a",
   "metadata": {},
   "outputs": [],
   "source": [
    "gamesSim(10000)"
   ]
  }
 ],
 "metadata": {
  "kernelspec": {
   "display_name": "Python 3 (ipykernel)",
   "language": "python",
   "name": "python3"
  },
  "language_info": {
   "codemirror_mode": {
    "name": "ipython",
    "version": 3
   },
   "file_extension": ".py",
   "mimetype": "text/x-python",
   "name": "python",
   "nbconvert_exporter": "python",
   "pygments_lexer": "ipython3",
   "version": "3.11.0"
  }
 },
 "nbformat": 4,
 "nbformat_minor": 5
}
